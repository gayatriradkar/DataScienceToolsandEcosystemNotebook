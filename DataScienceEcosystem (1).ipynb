{
 "cells": [
  {
   "cell_type": "markdown",
   "id": "54fb9fb0-495b-4ef7-a3f0-8f950dbb8986",
   "metadata": {},
   "source": [
    "# Data Science Tools and Ecosystem"
   ]
  },
  {
   "cell_type": "markdown",
   "id": "44623311-9b61-48c2-824a-3010e94bf0e5",
   "metadata": {},
   "source": [
    "## In this notebook, Datascience tools and ecosystem are summarized."
   ]
  },
  {
   "cell_type": "markdown",
   "id": "7335def9-2899-4dec-a8cd-e4d2fd29556e",
   "metadata": {},
   "source": [
    "**Objectives:** List popular languages for Data Science\n",
    "* Julia\n",
    "* JavaScript\n",
    "* Scala"
   ]
  },
  {
   "cell_type": "markdown",
   "id": "49432081-d8d4-43ca-877f-9f0f3adedcba",
   "metadata": {},
   "source": [
    "Some of the popular languages that Data Scientists use are:\n",
    "1. Python\n",
    "2. R \n",
    "3. SQL"
   ]
  },
  {
   "cell_type": "markdown",
   "id": "97d796e5-525d-4d91-a5a5-21fdbd7b32a4",
   "metadata": {},
   "source": [
    "Some of the commonly used libraries used by Data Scientists include:\n",
    "1. NumPy\n",
    "2. Pandas\n",
    "3. Matplotlib"
   ]
  },
  {
   "cell_type": "code",
   "execution_count": 16,
   "id": "27821aaa-0066-4ea1-856e-85c047f0102d",
   "metadata": {},
   "outputs": [
    {
     "data": {
      "text/html": [
       "<style>\n",
       "table {float:left}\n",
       "</style>\n"
      ],
      "text/plain": [
       "<IPython.core.display.HTML object>"
      ]
     },
     "metadata": {},
     "output_type": "display_data"
    }
   ],
  },
  {
   "cell_type": "markdown",
   "id": "725844b0-6050-4688-bdf0-5f4a2f7f92e5",
   "metadata": {},
   "source": [
    "| Data Science Tools |\n",
    "|:-------------------|\n",
    "| Anaconda |\n",
    "| Jupyter Notebooks |\n",
    "| PyCharm |\n"
   ]
  },
  {
   "cell_type": "markdown",
   "id": "10a2dbff-4b98-4099-8be6-ea012b81b6da",
   "metadata": {},
   "source": [
    "### Below are a few examples of evaluating arithmetic expressions in Python"
   ]
  },
  {
   "cell_type": "code",
   "execution_count": 20,
   "id": "bf73b667-2da2-4957-a23a-35294719687d",
   "metadata": {},
   "outputs": [
    {
     "data": {
      "text/plain": [
       "17"
      ]
     },
     "execution_count": 20,
     "metadata": {},
     "output_type": "execute_result"
    }
   ],
   "source": [
    " #This a simple arithmetic expression to mutiply then add integers\n",
    "(3*4)+5"
   ]
  },
  {
   "cell_type": "code",
   "execution_count": 26,
   "id": "ef85dd6b-55bc-46a7-9647-910a56a86650",
   "metadata": {},
   "outputs": [
    {
     "data": {
      "text/plain": [
       "3.3333333333333335"
      ]
     },
     "execution_count": 26,
     "metadata": {},
     "output_type": "execute_result"
    }
   ],
   "source": [
    "#This will convert 200 minutes to hours by diving by 60\n",
    "200/60"
   ]
  },
  {
   "cell_type": "markdown",
   "id": "71232b80-5b28-40d3-9db3-a25e7ba42c8d",
   "metadata": {},
   "source": [
    "## Author\n",
    "Gayatri"
   ]
  }
 ],
 "metadata": {
  "kernelspec": {
   "display_name": "Python 3 (ipykernel)",
   "language": "python",
   "name": "python3"
  },
  "language_info": {
   "codemirror_mode": {
    "name": "ipython",
    "version": 3
   },
   "file_extension": ".py",
   "mimetype": "text/x-python",
   "name": "python",
   "nbconvert_exporter": "python",
   "pygments_lexer": "ipython3",
   "version": "3.12.4"
  }
 },
 "nbformat": 4,
 "nbformat_minor": 5
}
